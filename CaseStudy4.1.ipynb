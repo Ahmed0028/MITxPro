{
  "cells": [
    {
      "metadata": {
        "collapsed": true
      },
      "cell_type": "markdown",
      "source": "# Case Study 4.1 - Movies"
    },
    {
      "metadata": {},
      "cell_type": "markdown",
      "source": "<h1 style=\"color:red;\">Note: If you close this notebook at any time, you will have to run all cells again upon re-opening it.</h1>\n\n<h1 style=\"color:red;\">Note: You may get different numerical results running the notebook different times. This is to be expected, you can just report whatever results you get.</h1>"
    },
    {
      "metadata": {},
      "cell_type": "markdown",
      "source": "# ADVANCED PYTHON"
    },
    {
      "metadata": {},
      "cell_type": "markdown",
      "source": "As this is an advanced version, we don't include a lot of code here. If you get stuck on a particular part, feel free to also use the beginner version in `beginnner_python.ipynb` to help you out."
    },
    {
      "metadata": {},
      "cell_type": "markdown",
      "source": "# Identification Information"
    },
    {
      "metadata": {
        "trusted": true
      },
      "cell_type": "code",
      "source": "# YOUR NAME              = Ahmed Mohamed\n# YOUR MITX PRO USERNAME = Almekdad\n# YOUR MITX PRO E-MAIL   = a7mad.mohammad@gmail.com",
      "execution_count": 1,
      "outputs": []
    },
    {
      "metadata": {},
      "cell_type": "markdown",
      "source": "# Setup"
    },
    {
      "metadata": {},
      "cell_type": "markdown",
      "source": "Run these cells to install all the packages you need to complete the remainder of the case study. This may take a few minutes, so please be patient."
    },
    {
      "metadata": {
        "trusted": true
      },
      "cell_type": "code",
      "source": "!pip install surprise==0.1",
      "execution_count": 5,
      "outputs": [
        {
          "output_type": "stream",
          "text": "Collecting surprise==0.1\n  Downloading https://files.pythonhosted.org/packages/61/de/e5cba8682201fcf9c3719a6fdda95693468ed061945493dea2dd37c5618b/surprise-0.1-py2.py3-none-any.whl\nCollecting scikit-surprise (from surprise==0.1)\n\u001b[?25l  Downloading https://files.pythonhosted.org/packages/4d/fc/cd4210b247d1dca421c25994740cbbf03c5e980e31881f10eaddf45fdab0/scikit-surprise-1.0.6.tar.gz (3.3MB)\n\u001b[K     |████████████████████████████████| 3.3MB 3.0MB/s eta 0:00:01\n\u001b[?25hRequirement already satisfied: joblib>=0.11 in /home/nbuser/anaconda3_501/lib/python3.6/site-packages (from scikit-surprise->surprise==0.1) (0.12.5)\nRequirement already satisfied: numpy>=1.11.2 in /home/nbuser/anaconda3_501/lib/python3.6/site-packages (from scikit-surprise->surprise==0.1) (1.16.2)\nRequirement already satisfied: scipy>=1.0.0 in /home/nbuser/anaconda3_501/lib/python3.6/site-packages (from scikit-surprise->surprise==0.1) (1.1.0)\nRequirement already satisfied: six>=1.10.0 in /home/nbuser/anaconda3_501/lib/python3.6/site-packages (from scikit-surprise->surprise==0.1) (1.11.0)\nBuilding wheels for collected packages: scikit-surprise\n  Building wheel for scikit-surprise (setup.py) ... \u001b[?25ldone\n\u001b[?25h  Stored in directory: /home/nbuser/.cache/pip/wheels/ec/c0/55/3a28eab06b53c220015063ebbdb81213cd3dcbb72c088251ec\nSuccessfully built scikit-surprise\nInstalling collected packages: scikit-surprise, surprise\nSuccessfully installed scikit-surprise-1.0.6 surprise-0.1\n\u001b[33mWARNING: You are using pip version 19.1, however version 19.1.1 is available.\nYou should consider upgrading via the 'pip install --upgrade pip' command.\u001b[0m\n",
          "name": "stdout"
        }
      ]
    },
    {
      "metadata": {},
      "cell_type": "markdown",
      "source": "Now, you must press **Kernel > Restart.** This allows the installation to take effect. Once you see the blue **Connected/Kernel ready** button in the top right, you are good to go."
    },
    {
      "metadata": {},
      "cell_type": "markdown",
      "source": "# Import"
    },
    {
      "metadata": {
        "trusted": true
      },
      "cell_type": "code",
      "source": "import pandas as pd\nimport matplotlib\nfrom surprise import Dataset, SVD, NormalPredictor, BaselineOnly, KNNBasic, NMF\nfrom surprise.model_selection import cross_validate, KFold",
      "execution_count": 6,
      "outputs": []
    },
    {
      "metadata": {
        "trusted": true
      },
      "cell_type": "code",
      "source": "%matplotlib inline\n",
      "execution_count": 7,
      "outputs": []
    },
    {
      "metadata": {},
      "cell_type": "markdown",
      "source": "# Data"
    },
    {
      "metadata": {},
      "cell_type": "markdown",
      "source": "Use the [`**Dataset.load_builtin**`](http://surprise.readthedocs.io/en/stable/dataset.html#surprise.dataset.Dataset.load_builtin) function to load the data."
    },
    {
      "metadata": {
        "trusted": true
      },
      "cell_type": "code",
      "source": "data = Dataset.load_builtin('ml-100k')\n",
      "execution_count": 8,
      "outputs": [
        {
          "output_type": "stream",
          "text": "Dataset ml-100k could not be found. Do you want to download it? [Y/n] y\nTrying to download dataset from http://files.grouplens.org/datasets/movielens/ml-100k.zip...\nDone! Dataset ml-100k has been saved to /home/nbuser/.surprise_data/ml-100k\n",
          "name": "stdout"
        }
      ]
    },
    {
      "metadata": {},
      "cell_type": "markdown",
      "source": "We also want to get a sense of what the data looks like. Please create a histogram of all the ratings we have in the dataset."
    },
    {
      "metadata": {
        "trusted": true
      },
      "cell_type": "code",
      "source": "\nratings_file = data.ratings_file\n\ncol_names = ['user_id', 'item_id', 'rating', 'timestamp']\nraw_data = pd.read_table(ratings_file, names=col_names)\n\nratings = raw_data.rating\nratings.value_counts().sort_index().plot.bar()",
      "execution_count": 9,
      "outputs": [
        {
          "output_type": "execute_result",
          "execution_count": 9,
          "data": {
            "text/plain": "<matplotlib.axes._subplots.AxesSubplot at 0x7f0f2b33f5f8>"
          },
          "metadata": {}
        },
        {
          "output_type": "display_data",
          "data": {
            "image/png": "[encoded data removed]",
            "text/plain": "<Figure size 432x288 with 1 Axes>"
          },
          "metadata": {
            "needs_background": "light"
          }
        }
      ]
    },
    {
      "metadata": {},
      "cell_type": "markdown",
      "source": "<h1 style=\"color:red;\">QUESTION 1: DATA ANALYSIS</h1>"
    },
    {
      "metadata": {},
      "cell_type": "markdown",
      "source": "**Describe the dataset. How many ratings are in the dataset? How would you describe the distribution of ratings? Is there anything else we should observe? Make sure the histogram is visible in the notebook.**"
    },
    {
      "metadata": {
        "trusted": true
      },
      "cell_type": "code",
      "source": "print('Number of rating: {}'.format(len(ratings)))\n",
      "execution_count": 10,
      "outputs": [
        {
          "output_type": "stream",
          "text": "Number of rating: 100000\n",
          "name": "stdout"
        }
      ]
    },
    {
      "metadata": {},
      "cell_type": "markdown",
      "source": "*There are 100,000 ratings in the dataset.*\n*We can see from the histogram that most of the ratings is distributed around 3, 4 and 5. The number of rating 3 is about 26,000. The number of rating 4 is about 34,000. The number of rating 5 is about 21,000. The total number of rating 3, 4 and 5 is 81,000 which is about 81% of total number of ratings.\nAlso we can observe that the bias toward high ratings in the disturibution doesn't mean there are more 'good' moives than 'bad' moives. If we assume the rating are normally distuributed, most of the ratings should be around 2, 3 and 5. Actually, users are more likely to rate a moive they like but not to rate a moive they dislike. That's why when a moive has been rated and the rating is more often to be a high rating. * "
    },
    {
      "metadata": {},
      "cell_type": "markdown",
      "source": "# Model 1: Random"
    },
    {
      "metadata": {
        "trusted": true
      },
      "cell_type": "code",
      "source": "# Create model using NormalPredictor() class\nmodel_random = NormalPredictor()\n",
      "execution_count": 11,
      "outputs": []
    },
    {
      "metadata": {
        "trusted": true
      },
      "cell_type": "code",
      "source": "# Train on data using cross-validation with k=5 folds, measuring the RMSE\n# See the cross_validate function that we have imported above\n# http://surprise.readthedocs.io/en/stable/model_selection.html#surprise.model_selection.validation.cross_validate\nmodel_random_results = cross_validate(model_random, data, measures=['RMSE'], cv=5, verbose=True)\n",
      "execution_count": 12,
      "outputs": [
        {
          "output_type": "stream",
          "text": "Evaluating RMSE of algorithm NormalPredictor on 5 split(s).\n\n                  Fold 1  Fold 2  Fold 3  Fold 4  Fold 5  Mean    Std     \nRMSE (testset)    1.5201  1.5206  1.5106  1.5238  1.5248  1.5200  0.0050  \nFit time          0.16    0.19    0.18    0.16    0.16    0.17    0.01    \nTest time         0.23    0.27    0.20    0.19    0.24    0.23    0.03    \n",
          "name": "stdout"
        }
      ]
    },
    {
      "metadata": {},
      "cell_type": "markdown",
      "source": "# Model 2: User-Based Collaborative Filtering"
    },
    {
      "metadata": {
        "trusted": true
      },
      "cell_type": "code",
      "source": "# Create model using KNNBasic() class\n# See the sim_options parameter to determine the user/item similarity calculation of the model\n# http://surprise.readthedocs.io/en/stable/prediction_algorithms.html#similarity-measures-configuration\nmodel_user = KNNBasic(sim_options={'user_based': True})\n",
      "execution_count": 13,
      "outputs": []
    },
    {
      "metadata": {
        "trusted": true
      },
      "cell_type": "code",
      "source": "# Train using same cross validation code as abovemodel_user_results = cross_validate(model_user, data, measures=['RMSE'], cv=5, verbose=True)\nmodel_user_results = cross_validate(model_user, data, measures=['RMSE'], cv=5, verbose=True)\n",
      "execution_count": 14,
      "outputs": [
        {
          "output_type": "stream",
          "text": "Computing the msd similarity matrix...\nDone computing similarity matrix.\nComputing the msd similarity matrix...\nDone computing similarity matrix.\nComputing the msd similarity matrix...\nDone computing similarity matrix.\nComputing the msd similarity matrix...\nDone computing similarity matrix.\nComputing the msd similarity matrix...\nDone computing similarity matrix.\nEvaluating RMSE of algorithm KNNBasic on 5 split(s).\n\n                  Fold 1  Fold 2  Fold 3  Fold 4  Fold 5  Mean    Std     \nRMSE (testset)    0.9806  0.9851  0.9771  0.9691  0.9796  0.9783  0.0053  \nFit time          0.47    0.38    0.36    0.43    0.46    0.42    0.04    \nTest time         4.93    4.82    5.51    5.10    4.95    5.06    0.24    \n",
          "name": "stdout"
        }
      ]
    },
    {
      "metadata": {},
      "cell_type": "markdown",
      "source": "# Model 3: Item-Based Collaborative Filtering"
    },
    {
      "metadata": {
        "trusted": true
      },
      "cell_type": "code",
      "source": "# Create model using KNNBasic() class\n# Make sure you change the sim_options parameter from above\nmodel_item = KNNBasic(sim_options={'user_based': False})\n",
      "execution_count": 15,
      "outputs": []
    },
    {
      "metadata": {
        "trusted": true
      },
      "cell_type": "code",
      "source": "# Train using same cross validation code as above\nmodel_item_results = cross_validate(model_item, data, measures=['RMSE'], cv=5, verbose=True)\n",
      "execution_count": 16,
      "outputs": [
        {
          "output_type": "stream",
          "text": "Computing the msd similarity matrix...\nDone computing similarity matrix.\nComputing the msd similarity matrix...\nDone computing similarity matrix.\nComputing the msd similarity matrix...\nDone computing similarity matrix.\nComputing the msd similarity matrix...\nDone computing similarity matrix.\nComputing the msd similarity matrix...\nDone computing similarity matrix.\nEvaluating RMSE of algorithm KNNBasic on 5 split(s).\n\n                  Fold 1  Fold 2  Fold 3  Fold 4  Fold 5  Mean    Std     \nRMSE (testset)    0.9704  0.9748  0.9677  0.9736  0.9856  0.9744  0.0061  \nFit time          0.51    0.56    0.64    0.61    0.60    0.58    0.05    \nTest time         5.32    5.85    5.90    5.74    5.50    5.66    0.22    \n",
          "name": "stdout"
        }
      ]
    },
    {
      "metadata": {},
      "cell_type": "markdown",
      "source": "<h1 style=\"color:red;\">QUESTION 2: COLLABORATIVE FILTERING MODELS</h1>"
    },
    {
      "metadata": {},
      "cell_type": "markdown",
      "source": "**Compare the results from the user-user and item-item models. How do they compare to each other? How do they compare to our original \"random\" model? Can you provide any intuition as to why the results came out the way they did?**"
    },
    {
      "metadata": {},
      "cell_type": "markdown",
      "source": "*We can see from the result above that the random model gives us a RMSE (Root Mean Squred Error) of **1.5200** (mean of RMSE 5 splits). The user-based collaborative filtering gives us RMSE of **0.9783** (mean of RMSE of 5 splits). The iterm-based collaborative filtering gives us RMSE of **0.9744** (mean of RMSE of 5 splits).'\nThe random model has the highest RMSE which means this model performs worest. The user-based collaborative filtring and iterm-based collaborative filtering have significantly improved the result (reducing the RMSE by 0.5). The user-based collaborative filtring and iterm-based collaborative filtering perform almost the same considering their mean of RMSE and standard deviation. These two collabrative filtering model performed better because the model consider user similarity and item similarity.*"
    },
    {
      "metadata": {},
      "cell_type": "markdown",
      "source": "# Model 4: Matrix Factorization"
    },
    {
      "metadata": {
        "trusted": true
      },
      "cell_type": "code",
      "source": "# Create model using SVD() class\nmodel_matrix = SVD()\n",
      "execution_count": 17,
      "outputs": []
    },
    {
      "metadata": {
        "trusted": true
      },
      "cell_type": "code",
      "source": "# Train using same cross validation code as above\nmodel_matrix_results = cross_validate(model_matrix, data, measures=['RMSE'], cv=5, verbose=True)\n",
      "execution_count": 18,
      "outputs": [
        {
          "output_type": "stream",
          "text": "Evaluating RMSE of algorithm SVD on 5 split(s).\n\n                  Fold 1  Fold 2  Fold 3  Fold 4  Fold 5  Mean    Std     \nRMSE (testset)    0.9373  0.9257  0.9288  0.9383  0.9448  0.9350  0.0069  \nFit time          5.99    6.42    6.30    6.27    6.00    6.20    0.17    \nTest time         0.27    0.34    0.36    0.33    0.34    0.33    0.03    \n",
          "name": "stdout"
        }
      ]
    },
    {
      "metadata": {},
      "cell_type": "markdown",
      "source": "<h1 style=\"color:red;\">QUESTION 3: MATRIX FACTORIZATION MODEL</h1>"
    },
    {
      "metadata": {},
      "cell_type": "markdown",
      "source": "**The matrix factorization model is different from the collaborative filtering models. Briefly describe this difference. Also, compare the RMSE again. Does it improve? Can you offer any reasoning as to why that might be?**"
    },
    {
      "metadata": {},
      "cell_type": "markdown",
      "source": "*The collaborative filtering models uses the similarity of user and item while the matrix factorization uses low rank matrix factorization.\n\nThe mean of RMSE of matrix factorization is **0.9350**. The result is significantly improved comparing to the random model and even better than the two collabrative filtering model. The reason is matrix factorization uses proximity to the user in the latent space.*"
    },
    {
      "metadata": {},
      "cell_type": "markdown",
      "source": "# Precision and Recall @ `k`"
    },
    {
      "metadata": {},
      "cell_type": "markdown",
      "source": "We now want to compute the precision and recall for 2 values of `k`: 5 and 10. We have provided some code here to help you do that."
    },
    {
      "metadata": {},
      "cell_type": "markdown",
      "source": "First, we define a function that takes in some predictions, a value of `k` and a threshold parameter. This code is adapted from [here](http://surprise.readthedocs.io/en/stable/FAQ.html?highlight=precision#how-to-compute-precision-k-and-recall-k)."
    },
    {
      "metadata": {
        "trusted": true
      },
      "cell_type": "code",
      "source": "def precision_recall_at_k(predictions, k=10, threshold=3.5):\n    '''Return precision and recall at k metrics for each user.'''\n\n    # First map the predictions to each user.\n    user_est_true = dict()\n    for uid, _, true_r, est, _ in predictions:\n        current = user_est_true.get(uid, list())\n        current.append((est, true_r))\n        user_est_true[uid] = current\n\n    precisions = dict()\n    recalls = dict()\n    for uid, user_ratings in user_est_true.items():\n\n        # Sort user ratings by estimated value\n        user_ratings.sort(key=lambda x: x[0], reverse=True)\n\n        # Number of relevant items\n        n_rel = sum((true_r >= threshold) for (_, true_r) in user_ratings)\n\n        # Number of recommended items in top k\n        n_rec_k = sum((est >= threshold) for (est, _) in user_ratings[:k])\n\n        # Number of relevant and recommended items in top k\n        n_rel_and_rec_k = sum(((true_r >= threshold) and (est >= threshold))\n                              for (est, true_r) in user_ratings[:k])\n\n        # Precision@K: Proportion of recommended items that are relevant\n        precisions[uid] = n_rel_and_rec_k / n_rec_k if n_rec_k != 0 else 1\n\n        # Recall@K: Proportion of relevant items that are recommended\n        recalls[uid] = n_rel_and_rec_k / n_rel if n_rel != 0 else 1\n\n    return precisions, recalls",
      "execution_count": 19,
      "outputs": []
    },
    {
      "metadata": {},
      "cell_type": "markdown",
      "source": "Next, we compute the precision and recall at `k` = 5 and 10 for each of our 4 models. We use 5-fold cross validation again to average the results across the entire dataseat.\n\nPlease note that this will take some time to compute."
    },
    {
      "metadata": {},
      "cell_type": "markdown",
      "source": "<h1 style=\"color:red;\">QUESTION 4: PRECISION/RECALL</h1>"
    },
    {
      "metadata": {},
      "cell_type": "markdown",
      "source": "**Compute the precision and recall, for each of the 4 models, at `k` = 5 and 10. This is 2 x 2 x 4 = 16 numerical values. Do you note anything interesting about these values? Anything differerent from the RMSE values you computed above?**\n\nSome code is required for this question."
    },
    {
      "metadata": {
        "trusted": true
      },
      "cell_type": "code",
      "source": "# Use the function above to compute the 16 numerical values requested above\n\n# Make list of k values\nK = [5, 10]\n\n# Make list of models\nmodels = [model_random, model_user, model_item, model_matrix]\n\n# Create k-fold cross validation object\nkf = KFold(n_splits=5)\n\nfor k in K:\n    for model in models:\n        print(f'>>> k={k}, model={model.__class__.__name__}')\n        # Run folder and take average\n        p = []\n        r = []\n        for trainset, testset in kf.split(data):\n            model.fit(trainset)\n            predictions = model.test(testset, verbose=False)\n            precisions, recalls = precision_recall_at_k(predictions, k=k, threshold=3.5)\n\n            # Precision and recall can then be averaged over all users\n            p.append(sum(prec for prec in precisions.values()) / len(precisions))\n            r.append(sum(rec for rec in recalls.values()) / len(recalls))\n        \n        print('>>> precision:', round(sum(p) / len(p), 3))\n        print('>>> reccall  :', round(sum(r) / len(r), 3))\n",
      "execution_count": 20,
      "outputs": [
        {
          "output_type": "stream",
          "text": ">>> k=5, model=NormalPredictor\n>>> precision: 0.587\n>>> reccall  : 0.343\n>>> k=5, model=KNNBasic\nComputing the msd similarity matrix...\nDone computing similarity matrix.\nComputing the msd similarity matrix...\nDone computing similarity matrix.\nComputing the msd similarity matrix...\nDone computing similarity matrix.\nComputing the msd similarity matrix...\nDone computing similarity matrix.\nComputing the msd similarity matrix...\nDone computing similarity matrix.\n>>> precision: 0.769\n>>> reccall  : 0.457\n>>> k=5, model=KNNBasic\nComputing the msd similarity matrix...\nDone computing similarity matrix.\nComputing the msd similarity matrix...\nDone computing similarity matrix.\nComputing the msd similarity matrix...\nDone computing similarity matrix.\nComputing the msd similarity matrix...\nDone computing similarity matrix.\nComputing the msd similarity matrix...\nDone computing similarity matrix.\n>>> precision: 0.82\n>>> reccall  : 0.389\n>>> k=5, model=SVD\n>>> precision: 0.78\n>>> reccall  : 0.429\n>>> k=10, model=NormalPredictor\n>>> precision: 0.585\n>>> reccall  : 0.425\n>>> k=10, model=KNNBasic\nComputing the msd similarity matrix...\nDone computing similarity matrix.\nComputing the msd similarity matrix...\nDone computing similarity matrix.\nComputing the msd similarity matrix...\nDone computing similarity matrix.\nComputing the msd similarity matrix...\nDone computing similarity matrix.\nComputing the msd similarity matrix...\nDone computing similarity matrix.\n>>> precision: 0.738\n>>> reccall  : 0.595\n>>> k=10, model=KNNBasic\nComputing the msd similarity matrix...\nDone computing similarity matrix.\nComputing the msd similarity matrix...\nDone computing similarity matrix.\nComputing the msd similarity matrix...\nDone computing similarity matrix.\nComputing the msd similarity matrix...\nDone computing similarity matrix.\nComputing the msd similarity matrix...\nDone computing similarity matrix.\n>>> precision: 0.79\n>>> reccall  : 0.538\n>>> k=10, model=SVD\n>>> precision: 0.756\n>>> reccall  : 0.564\n",
          "name": "stdout"
        }
      ]
    },
    {
      "metadata": {},
      "cell_type": "markdown",
      "source": "|   K=5       \n|------           |------|------|\n|NormalPredictor: precision: 0.587, recall: 0.343 \n|KNNBasic: precision: 0.769, recall: 0.457 \n|KNNBasic: precision: 0.82, recall: 0.389\n|SVD precision: 0.78, recall : 0.429\n\n|   K=10       \n|------           |------|------|\n|NormalPredictor: precision:0.585 , recall: 0.425 \n|KNNBasic: precision: 0.738, recall:0.595\n|KNNBasic: precision: 0.79, recall:0.538 \n|SVD precision: 0.756, recall : 0.564\n\n\n*We can see above results that the random model has the lowest precision and recall in both cases of k=5 and k=10. When k = 5 all the results have low recall. For example, KNNBasic (item based) has the highest precision of 0.7 but the recall is only 0.3 When K = 5, we can see all of the recall has increased. However, the highest precision is all about 79% which become smaller.\nThe resulty agrees with RMSE result showing that random model has the worest performance. While item based model, user based model and matrix factorization model have much better and similar performance*"
    },
    {
      "metadata": {},
      "cell_type": "markdown",
      "source": "#  Top-`n` Predictions"
    },
    {
      "metadata": {},
      "cell_type": "markdown",
      "source": "Finally, we can see what some of the actual movie ratings are for particular users, as outputs of our model."
    },
    {
      "metadata": {},
      "cell_type": "markdown",
      "source": "Again, we define a helpful function."
    },
    {
      "metadata": {
        "trusted": true
      },
      "cell_type": "code",
      "source": "def get_top_n(predictions, n=5):\n    '''Return the top-N recommendation for each user from a set of predictions.\n\n    Args:\n        predictions(list of Prediction objects): The list of predictions, as\n            returned by the test method of an algorithm.\n        n(int): The number of recommendation to output for each user. Default\n            is 10.\n\n    Returns:\n    A dict where keys are user (raw) ids and values are lists of tuples:\n        [(raw item id, rating estimation), ...] of size n.\n    '''\n\n    # First map the predictions to each user.\n    top_n = dict()\n    for uid, iid, true_r, est, _ in predictions:\n        current = top_n.get(uid, [])\n        current.append((iid, est))\n        top_n[uid] = current\n\n    # Then sort the predictions for each user and retrieve the k highest ones.\n    for uid, user_ratings in top_n.items():\n        user_ratings.sort(key=lambda x: x[1], reverse=True)\n        top_n[uid] = user_ratings[:n]\n\n    return top_n",
      "execution_count": 21,
      "outputs": []
    },
    {
      "metadata": {},
      "cell_type": "markdown",
      "source": "Then, we call this function on each of our models, first training on **all** the data we have available, then predicting on the remaining, missing data. We use `n`=5 here, but you can pick any reasonable value of `n` you would like.\n\nThis may take some time to compute, so be patient."
    },
    {
      "metadata": {},
      "cell_type": "markdown",
      "source": "Hint: Use [`**Dataset.build_full_trainset**`](http://surprise.readthedocs.io/en/stable/dataset.html#surprise.dataset.DatasetAutoFolds.build_full_trainset) to get the full trainset from the data. Then call [`**Trainset.build_anti_testset**`](http://surprise.readthedocs.io/en/stable/trainset.html#surprise.Trainset.build_anti_testset) to get the testset out. Finally, `fit` on the trainset, `test` on the testset, then pass that result to our `get_top_n` function."
    },
    {
      "metadata": {
        "trusted": true
      },
      "cell_type": "code",
      "source": "trainset = data.build_full_trainset()\ntestset = trainset.build_anti_testset()",
      "execution_count": 22,
      "outputs": []
    },
    {
      "metadata": {},
      "cell_type": "markdown",
      "source": "<h1 style=\"color:red;\">QUESTION 5: TOP N PREDICTIONS</h1>"
    },
    {
      "metadata": {},
      "cell_type": "markdown",
      "source": "**Do the top n predictions that you received make sense? What is the rating value (1-5) of these predictions? How could you use these predictions in the real-world if you were trying to build a generic content recommender system for a company?**\n\nSome code is required for this question."
    },
    {
      "metadata": {
        "trusted": true
      },
      "cell_type": "code",
      "source": "for model in models:\n    model.fit(trainset)\n    predictions = model.test(testset)\n    top_n = get_top_n(predictions, n=5)\n    # Print the first one\n    user = list(top_n.keys())[0]\n    print(f'model: {model}, {user}: {top_n[user]}')",
      "execution_count": 23,
      "outputs": [
        {
          "output_type": "stream",
          "text": "model: <surprise.prediction_algorithms.random_pred.NormalPredictor object at 0x7f0f335fc438>, 196: [('302', 5), ('222', 5), ('274', 5), ('1184', 5), ('392', 5)]\nComputing the msd similarity matrix...\nDone computing similarity matrix.\nmodel: <surprise.prediction_algorithms.knns.KNNBasic object at 0x7f0f2b25db00>, 196: [('1189', 5), ('1500', 5), ('814', 5), ('1536', 5), ('1599', 5)]\nComputing the msd similarity matrix...\nDone computing similarity matrix.\nmodel: <surprise.prediction_algorithms.knns.KNNBasic object at 0x7f0f2b25d6a0>, 196: [('1414', 4.666666666666667), ('1309', 4.5), ('1310', 4.5), ('1675', 4.333333333333333), ('1676', 4.3076923076923075)]\nmodel: <surprise.prediction_algorithms.matrix_factorization.SVD object at 0x7f0f335fc160>, 196: [('64', 4.655912780465063), ('50', 4.653845151963737), ('474', 4.64996238844844), ('134', 4.609169130984422), ('408', 4.580544964990535)]\n",
          "name": "stdout"
        }
      ]
    },
    {
      "metadata": {},
      "cell_type": "markdown",
      "source": "|   **Top 5 predictions**      \n|------           |------|------|\n|Random model:     |302|222|274|1184|392 \n|User based model: |1189|1500|814|1536|1599 \n|Item based model: |1414|1309|1310|1675|1676 \n|Matrix model:     |64|50|474|134|408 \n\n*In real-world, we could push all the recommended contents to user. Base on user's feedback on the recommended contents, we can furthermore calibrate our models to make better prediction.*\n\n"
    },
    {
      "metadata": {},
      "cell_type": "markdown",
      "source": "<hr>"
    },
    {
      "metadata": {},
      "cell_type": "markdown",
      "source": "Great job! Now, make sure you check out the **Conclusion** section of the [instruction manual](https://courses.edx.org/asset-v1:MITxPRO+DSx+2T2018+type@asset+block@4.1_instruction_manual.html) to wrap up this case study properly."
    }
  ],
  "metadata": {
    "kernelspec": {
      "name": "python36",
      "display_name": "Python 3.6",
      "language": "python"
    },
    "language_info": {
      "mimetype": "text/x-python",
      "nbconvert_exporter": "python",
      "name": "python",
      "pygments_lexer": "ipython3",
      "version": "3.6.6",
      "file_extension": ".py",
      "codemirror_mode": {
        "version": 3,
        "name": "ipython"
      }
    }
  },
  "nbformat": 4,
  "nbformat_minor": 2
}